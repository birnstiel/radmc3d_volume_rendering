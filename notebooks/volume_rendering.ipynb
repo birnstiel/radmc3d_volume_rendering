{
 "cells": [
  {
   "cell_type": "markdown",
   "metadata": {},
   "source": [
    "# RADMC-3D Volume Rendering"
   ]
  },
  {
   "cell_type": "code",
   "execution_count": null,
   "metadata": {},
   "outputs": [],
   "source": [
    "import numpy as np\n",
    "import matplotlib.pyplot as plt\n",
    "\n",
    "from disklab import radmc3d\n",
    "from disklab.natconst import au\n",
    "import radmc3d_volume_rendering as rvr\n",
    "\n",
    "%matplotlib inline"
   ]
  },
  {
   "cell_type": "markdown",
   "metadata": {},
   "source": [
    "## Setup"
   ]
  },
  {
   "cell_type": "markdown",
   "metadata": {},
   "source": [
    "If we couldn't locate the radmc-3d sources, we need to set the path manually:"
   ]
  },
  {
   "cell_type": "code",
   "execution_count": null,
   "metadata": {},
   "outputs": [],
   "source": [
    "rvr.locate_src_dir(dir='~/CODES/radmc-3d/version_0.41/src/')"
   ]
  },
  {
   "cell_type": "markdown",
   "metadata": {},
   "source": [
    "We need to set a folder into which to write the output:"
   ]
  },
  {
   "cell_type": "code",
   "execution_count": null,
   "metadata": {},
   "outputs": [],
   "source": [
    "dir_setup = 'radmc3d_setup'"
   ]
  },
  {
   "cell_type": "markdown",
   "metadata": {},
   "source": [
    "Next, we write the files that are needed to compile RADMC-3D"
   ]
  },
  {
   "cell_type": "code",
   "execution_count": null,
   "metadata": {},
   "outputs": [],
   "source": [
    "rvr.write_sources(dir_setup)"
   ]
  },
  {
   "cell_type": "markdown",
   "metadata": {},
   "source": [
    "We also write the input data. This is stored in a file that we can access directly. Otherwise a dictionary can be given with the same contents."
   ]
  },
  {
   "cell_type": "code",
   "execution_count": null,
   "metadata": {},
   "outputs": [],
   "source": [
    "rvr.radmc3d_setup('fargo3d_data.npz', path=dir_setup)"
   ]
  },
  {
   "cell_type": "markdown",
   "metadata": {},
   "source": [
    "## Compiling and running"
   ]
  },
  {
   "cell_type": "markdown",
   "metadata": {},
   "source": [
    "Everything should be there now, so we need to compile:"
   ]
  },
  {
   "cell_type": "code",
   "execution_count": null,
   "metadata": {},
   "outputs": [],
   "source": [
    "rvr.make(dir_setup)"
   ]
  },
  {
   "cell_type": "code",
   "execution_count": null,
   "metadata": {},
   "outputs": [],
   "source": [
    "rvr.callit(path=dir_setup,\n",
    "           command='image lambda 10 sizeradian 2 posang 90 projection 1 locobsau 0 0 .5 pointau 0 -1 0 nofluxcons npix 400'\n",
    "          )\n",
    "\n",
    "rvr.plotit(dir_setup)"
   ]
  },
  {
   "cell_type": "markdown",
   "metadata": {},
   "source": [
    "## Debugging\n",
    "For debugging: try reading the radmc3d input (note that the \n",
    "densities are not necessarily physical units)"
   ]
  },
  {
   "cell_type": "markdown",
   "metadata": {},
   "source": [
    "#### Vertical/radial slice"
   ]
  },
  {
   "cell_type": "code",
   "execution_count": null,
   "metadata": {},
   "outputs": [],
   "source": [
    "g = radmc3d.read_amr_grid(directory=dir_setup)\n",
    "d = radmc3d.read_data(gas=True, mirror=False, ddir=dir_setup)\n",
    "\n",
    "radmc3d.plotgrid(r=g.r / au, theta=g.theta, ri=g.ri / au, thetai=g.thetai, data=np.log10(d.rhog[:,:,:,0].min(-1)))\n",
    "plt.ylim(-0.2,0.2)\n",
    "plt.xlim(0.6,1.5);"
   ]
  },
  {
   "cell_type": "markdown",
   "metadata": {},
   "source": [
    "#### Radial/azimuthal slice"
   ]
  },
  {
   "cell_type": "code",
   "execution_count": null,
   "metadata": {},
   "outputs": [],
   "source": [
    "g = radmc3d.read_amr_grid(directory=dir_setup)\n",
    "d = radmc3d.read_data(gas=True, mirror=False, ddir=dir_setup)\n",
    "\n",
    "R,T = np.meshgrid(g.ri, g.phii, indexing='ij')\n",
    "\n",
    "X = R * np.cos(T)\n",
    "Y = R * np.sin(T)\n",
    "\n",
    "f, ax = plt.subplots()\n",
    "ax.pcolormesh(X / au, Y / au, np.log10(d.rhog[:,:,:,0].sum(1)))\n",
    "ax.set_aspect('equal')"
   ]
  },
  {
   "cell_type": "markdown",
   "metadata": {},
   "source": [
    "We can also make RADMC-3D write the vtk_grid and data"
   ]
  },
  {
   "cell_type": "code",
   "execution_count": null,
   "metadata": {},
   "outputs": [],
   "source": [
    "!cd {dir_setup} && radmc3d vtk_grid\n",
    "!cd {dir_setup} && radmc3d vtk_gas_density"
   ]
  }
 ],
 "metadata": {
  "kernelspec": {
   "display_name": "Python 3",
   "language": "python",
   "name": "python3"
  },
  "language_info": {
   "codemirror_mode": {
    "name": "ipython",
    "version": 3
   },
   "file_extension": ".py",
   "mimetype": "text/x-python",
   "name": "python",
   "nbconvert_exporter": "python",
   "pygments_lexer": "ipython3",
   "version": "3.6.10"
  }
 },
 "nbformat": 4,
 "nbformat_minor": 4
}
