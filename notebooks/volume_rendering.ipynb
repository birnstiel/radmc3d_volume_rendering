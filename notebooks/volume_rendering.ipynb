{
 "cells": [
  {
   "cell_type": "markdown",
   "metadata": {},
   "source": [
    "# RADMC-3D Volume Rendering"
   ]
  },
  {
   "cell_type": "code",
   "execution_count": null,
   "metadata": {},
   "outputs": [],
   "source": [
    "import numpy as np\n",
    "import matplotlib.pyplot as plt\n",
    "from matplotlib.colors import LogNorm\n",
    "from matplotlib.animation import FuncAnimation\n",
    "from tqdm.auto import tqdm\n",
    "import seaborn as sns\n",
    "import astropy.constants as c\n",
    "from IPython.display import Video\n",
    "\n",
    "import radmc3d_volume_rendering as rvr\n",
    "\n",
    "au = c.au.cgs.value"
   ]
  },
  {
   "cell_type": "markdown",
   "metadata": {},
   "source": [
    "## Setup"
   ]
  },
  {
   "cell_type": "markdown",
   "metadata": {},
   "source": [
    "We need to set the path to the radmc3d source folder `src` when initializing. It will then compile the 'normal' radmc3d together with the userdefined function."
   ]
  },
  {
   "cell_type": "code",
   "execution_count": null,
   "metadata": {},
   "outputs": [],
   "source": [
    "ren = rvr.Renderer(src_dir='~/CODES/radmc3d-2.0/src/')"
   ]
  },
  {
   "cell_type": "markdown",
   "metadata": {},
   "source": [
    "Next, we need some data: grid and densities. You can assign them directly:\n",
    "\n",
    "\n",
    "```python\n",
    "ren.t_i = theta_ii\n",
    "ren.p_i = phi_i\n",
    "ren.r_i = r_i\n",
    "ren.rho = rho\n",
    "```\n",
    "\n",
    "where $\\theta$ is defined to start from 0 at the pole and the order of indices of the density is: $\\rho(r, \\theta, \\phi)$.\n",
    "\n",
    "If those variables are stored under the same names (`r_i, t_i, p_i, rho`) we can load that directly (or a dictionary with the same keywords):"
   ]
  },
  {
   "cell_type": "code",
   "execution_count": null,
   "metadata": {},
   "outputs": [],
   "source": [
    "ren.read_data('fargo3d_data.npz')"
   ]
  },
  {
   "cell_type": "markdown",
   "metadata": {},
   "source": [
    "And to write out the density for radmc3d, we do:"
   ]
  },
  {
   "cell_type": "code",
   "execution_count": null,
   "metadata": {},
   "outputs": [],
   "source": [
    "ren.write_input()"
   ]
  },
  {
   "cell_type": "markdown",
   "metadata": {},
   "source": [
    "We write out the desired parameters of a gaussian transfer function:\n",
    "\n",
    "**WARNING:** right now this is only read-in once, so this needs to be fixed in the image calculation, perhaps defining this as `myaction`? Right now, if you change those parameters, you need to restart the child process with `ren._stop_radmc3d_child()`"
   ]
  },
  {
   "cell_type": "code",
   "execution_count": null,
   "metadata": {},
   "outputs": [],
   "source": [
    "ren.write_transfer_options(mean=0.5 * ren.rho.max(), sigma=0.1 * ren.rho.max())\n",
    "ren._stop_radmc3d_child()"
   ]
  },
  {
   "cell_type": "markdown",
   "metadata": {},
   "source": [
    "## Rendering"
   ]
  },
  {
   "cell_type": "markdown",
   "metadata": {},
   "source": [
    "Rendering should now work by directly talking to the child process:"
   ]
  },
  {
   "cell_type": "code",
   "execution_count": null,
   "metadata": {},
   "outputs": [],
   "source": [
    "cmd = 'image lambda 5 sizeradian 1.0 projection 1 posang 0 locobsau 1 -0.25 0.25 pointau 0.98 0.19 0 nofluxcons npix 1000'"
   ]
  },
  {
   "cell_type": "code",
   "execution_count": null,
   "metadata": {},
   "outputs": [],
   "source": [
    "%time im = ren.make_image(cmd)"
   ]
  },
  {
   "cell_type": "markdown",
   "metadata": {},
   "source": [
    "but `ren.callit` and `ren.plotit` should still work for calls to radmc3d without using the child-process method."
   ]
  },
  {
   "cell_type": "markdown",
   "metadata": {},
   "source": [
    "## Plot the image"
   ]
  },
  {
   "cell_type": "code",
   "execution_count": null,
   "metadata": {},
   "outputs": [],
   "source": [
    "vmax = im.im.max()\n",
    "\n",
    "f = plt.figure(figsize=(5, 5), dpi=150)\n",
    "ax = f.add_axes([0, 0, 1, 1])\n",
    "ax.pcolormesh(im.xi, im.yi, im.im.T, norm=LogNorm(vmin=1e-5*vmax, vmax=1e-1*vmax, clip=True), cmap='rocket')\n",
    "ax.set_aspect(1)\n",
    "ax.axis('off')\n",
    "f.savefig('example.jpg')"
   ]
  },
  {
   "cell_type": "markdown",
   "metadata": {},
   "source": [
    "Sanity check: vertical sum of density to see if the pattern matches"
   ]
  },
  {
   "cell_type": "code",
   "execution_count": null,
   "metadata": {},
   "outputs": [],
   "source": [
    "Ri, PHi = np.meshgrid(ren.r_i / c.au.cgs.value, ren.p_i, indexing='ij')\n",
    "_Xi = Ri * np.cos(PHi)\n",
    "_Yi = Ri * np.sin(PHi)\n",
    "\n",
    "f, ax = plt.subplots()\n",
    "ax.pcolormesh(_Xi, _Yi, (ren.rho * 0.5 * (ren.r_i[1:]+ ren.r_i[:-1])[:, None, None] * np.diff(ren.t_i)[None, :, None]).sum(1))\n",
    "ax.set_aspect('equal')"
   ]
  },
  {
   "cell_type": "markdown",
   "metadata": {},
   "source": [
    "## Movie"
   ]
  },
  {
   "cell_type": "markdown",
   "metadata": {},
   "source": [
    "Basic pointing and image size"
   ]
  },
  {
   "cell_type": "code",
   "execution_count": null,
   "metadata": {},
   "outputs": [],
   "source": [
    "pnt = np.array([0.92, 0.38, 0]) # where the camera points, needs to be printed in cm later\n",
    "obs = np.array([1, -0.25, 0.25]) # observer position, needs to be changed as well\n",
    "hsx, hsy = [1.0, 0.5625] # x and y extent of the image in radian\n",
    "pa = 0  # position angle of camera"
   ]
  },
  {
   "cell_type": "markdown",
   "metadata": {},
   "source": [
    "Define the observer position by panning around the point, starting at that initial position"
   ]
  },
  {
   "cell_type": "code",
   "execution_count": null,
   "metadata": {},
   "outputs": [],
   "source": [
    "# get radius of the motion\n",
    "vec = pnt[:2] - obs[:2]\n",
    "r_pan = np.hypot(*vec)\n",
    "\n",
    "# define a rotation angle array\n",
    "phi0 = np.arctan2(*vec[::-1])\n",
    "phi_pan = phi0 + np.linspace(0, 2 * np.pi, 5 * 24)\n",
    "\n",
    "# do a 360 degree pan around that point\n",
    "obsx = pnt[0] + r_pan * np.cos(phi_pan)\n",
    "obsy = pnt[1] + r_pan * np.sin(phi_pan)"
   ]
  },
  {
   "cell_type": "markdown",
   "metadata": {},
   "source": [
    "Plot the camera path"
   ]
  },
  {
   "cell_type": "code",
   "execution_count": null,
   "metadata": {},
   "outputs": [],
   "source": [
    "_R,_P = np.meshgrid(ren.r_i / au, ren.p_i, indexing='ij')\n",
    "_X = _R * np.cos(_P)\n",
    "_Y = _R * np.sin(_P)\n",
    "\n",
    "f, ax = plt.subplots(dpi=100)\n",
    "ax.plot(0,0, 'k+')\n",
    "s = 10\n",
    "ax.plot(_X[::s, ::s], _Y[::s, ::s], 'k-')\n",
    "ax.plot(_X[::s, ::s].T, _Y[::s, ::s].T, 'k-');\n",
    "\n",
    "ax.plot(*obs[:2],'rv')\n",
    "ax.plot(*pnt[:2],'bo')\n",
    "\n",
    "ax.plot([obs[0], pnt[0]], [obs[1], pnt[1]] ,'b--')\n",
    "\n",
    "ax.plot(obsx, obsy)\n",
    "ax.set_aspect(1)"
   ]
  },
  {
   "cell_type": "markdown",
   "metadata": {},
   "source": [
    "Write the movie input file"
   ]
  },
  {
   "cell_type": "code",
   "execution_count": null,
   "metadata": {},
   "outputs": [],
   "source": [
    "with open(ren.path / 'movie.inp', 'w') as fid:\n",
    "    # ifformat=1 means local observer mode\n",
    "    # iformat=-1 means observer at infinity\n",
    "    fid.write('-1\\n')\n",
    "    fid.write(f'{len(obsx):d}\\n')\n",
    "    for _x, _y in zip(obsx, obsy):\n",
    "        _arr = [*pnt * au, hsx, hsy, pa, _x * au, _y * au, obs[-1] * au]\n",
    "        fid.write(' '.join([f'{_v:.8g}' for _v in _arr]) + '\\n')"
   ]
  },
  {
   "cell_type": "markdown",
   "metadata": {},
   "source": [
    "Call the movie command (takes a bit over 3 minutes for me)"
   ]
  },
  {
   "cell_type": "code",
   "execution_count": null,
   "metadata": {},
   "outputs": [],
   "source": [
    "%%time\n",
    "N = 512\n",
    "ren.callit(command=f'movie lambda 5 nofluxcons npixx {N} npixy {int(N * hsy / hsx)}')"
   ]
  },
  {
   "cell_type": "markdown",
   "metadata": {},
   "source": [
    "Create the figure and the update function to make an animation out of it"
   ]
  },
  {
   "cell_type": "code",
   "execution_count": null,
   "metadata": {},
   "outputs": [],
   "source": [
    "%%capture\n",
    "im = rvr.radmc3d_volume_rendering.read_image(filename=str(ren.path / 'image_0001.out'))\n",
    "vmax = im.image.max()\n",
    "\n",
    "fig = plt.figure(figsize=(5, 5 / np.divide(*im.image.shape)), dpi=150)\n",
    "ax = fig.add_axes([0, 0, 1, 1])\n",
    "pcm = ax.pcolormesh(im.x, im.y, im.image[::-1, :].T,\n",
    "              norm=LogNorm(vmin=1e-5*vmax, vmax=1e-1*vmax, clip=True),\n",
    "              cmap='rocket', shading='auto')\n",
    "ax.set_aspect(1)\n",
    "ax.axis('off');\n",
    "\n",
    "def update(i):\n",
    "    im = rvr.radmc3d_volume_rendering.read_image(filename=str(ren.path / f'image_{i:04d}.out'))\n",
    "    pcm.set_array(im.image[::-1, :].T.ravel())"
   ]
  },
  {
   "cell_type": "markdown",
   "metadata": {},
   "source": [
    "Render the animation"
   ]
  },
  {
   "cell_type": "code",
   "execution_count": null,
   "metadata": {},
   "outputs": [],
   "source": [
    "ani = FuncAnimation(fig, update, frames=tqdm(np.arange(1, len(obsx) + 1)))\n",
    "ani.save('pan.mp4', fps=24, extra_args=['-vcodec', 'libx264'])"
   ]
  },
  {
   "cell_type": "markdown",
   "metadata": {},
   "source": [
    "Display it "
   ]
  },
  {
   "cell_type": "code",
   "execution_count": null,
   "metadata": {},
   "outputs": [],
   "source": [
    "Video('pan.mp4', html_attributes='controls autoplay', width=500)"
   ]
  },
  {
   "cell_type": "markdown",
   "metadata": {},
   "source": [
    "## Other output"
   ]
  },
  {
   "cell_type": "markdown",
   "metadata": {},
   "source": [
    "We can also make RADMC-3D write the vtk_grid and data"
   ]
  },
  {
   "cell_type": "code",
   "execution_count": null,
   "metadata": {},
   "outputs": [],
   "source": [
    "ren.callit(command='vtk_grid')"
   ]
  },
  {
   "cell_type": "code",
   "execution_count": null,
   "metadata": {},
   "outputs": [],
   "source": [
    "ren.callit(command='vtk_gas_density')"
   ]
  }
 ],
 "metadata": {
  "kernelspec": {
   "display_name": "Python 3 (ipykernel)",
   "language": "python",
   "name": "python3"
  },
  "language_info": {
   "codemirror_mode": {
    "name": "ipython",
    "version": 3
   },
   "file_extension": ".py",
   "mimetype": "text/x-python",
   "name": "python",
   "nbconvert_exporter": "python",
   "pygments_lexer": "ipython3",
   "version": "3.10.5"
  }
 },
 "nbformat": 4,
 "nbformat_minor": 4
}
