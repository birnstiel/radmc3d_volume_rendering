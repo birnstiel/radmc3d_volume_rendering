{
 "cells": [
  {
   "cell_type": "markdown",
   "metadata": {},
   "source": [
    "# RADMC-3D Volume Rendering"
   ]
  },
  {
   "cell_type": "code",
   "execution_count": null,
   "metadata": {},
   "outputs": [],
   "source": [
    "import numpy as np\n",
    "import matplotlib.pyplot as plt\n",
    "from matplotlib.colors import LogNorm\n",
    "import astropy.constants as c\n",
    "\n",
    "import radmc3d_volume_rendering as rvr\n",
    "\n",
    "au = c.au.cgs.value"
   ]
  },
  {
   "cell_type": "markdown",
   "metadata": {},
   "source": [
    "## Setup"
   ]
  },
  {
   "cell_type": "markdown",
   "metadata": {},
   "source": [
    "We need to set the path to the radmc3d source folder `src` when initializing. It will then compile the 'normal' radmc3d together with the userdefined function."
   ]
  },
  {
   "cell_type": "code",
   "execution_count": null,
   "metadata": {},
   "outputs": [],
   "source": [
    "ren = rvr.Renderer(src_dir='~/CODES/radmc3d-2.0/src/')"
   ]
  },
  {
   "cell_type": "markdown",
   "metadata": {},
   "source": [
    "Next, we need some data: grid and densities. You can assign them directly:\n",
    "\n",
    "\n",
    "```python\n",
    "ren.t_i = theta_ii\n",
    "ren.p_i = phi_i\n",
    "ren.r_i = r_i\n",
    "ren.rho = rho\n",
    "```\n",
    "\n",
    "where $\\theta$ is defined to start from 0 at the pole and the order of indices of the density is: $\\rho(r, \\theta, \\phi)$.\n",
    "\n",
    "If those variables are stored under the same names (`r_i, t_i, p_i, rho`) we can load that directly (or a dictionary with the same keywords):"
   ]
  },
  {
   "cell_type": "code",
   "execution_count": null,
   "metadata": {},
   "outputs": [],
   "source": [
    "ren.read_data('fargo3d_data.npz')"
   ]
  },
  {
   "cell_type": "markdown",
   "metadata": {},
   "source": [
    "And to write out the density for radmc3d, we do:"
   ]
  },
  {
   "cell_type": "code",
   "execution_count": null,
   "metadata": {},
   "outputs": [],
   "source": [
    "ren.write_input()"
   ]
  },
  {
   "cell_type": "code",
   "execution_count": null,
   "metadata": {},
   "outputs": [],
   "source": [
    "ren._close_radmc3d_child()"
   ]
  },
  {
   "cell_type": "markdown",
   "metadata": {},
   "source": [
    "We write out the desired parameters of a gaussian transfer function:\n",
    "\n",
    "**WARNING:** right now this is only read-in once, so this needs to be fixed in the image calculation, perhaps defining this as `myaction`? Right now, if you change those parameters, you need to restart the child process with `ren._stop_radmc_child()`"
   ]
  },
  {
   "cell_type": "code",
   "execution_count": null,
   "metadata": {},
   "outputs": [],
   "source": [
    "ren.write_transfer_options(mean=0.5 * ren.rho.max(), sigma=0.1 * ren.rho.max())"
   ]
  },
  {
   "cell_type": "markdown",
   "metadata": {},
   "source": [
    "## Rendering"
   ]
  },
  {
   "cell_type": "markdown",
   "metadata": {},
   "source": [
    "Rendering should now work by directly talking to the child process:"
   ]
  },
  {
   "cell_type": "code",
   "execution_count": null,
   "metadata": {},
   "outputs": [],
   "source": [
    "cmd = 'image lambda 5 sizeradian 1.0 projection 1 posang 0 locobsau 1 -0.25 0.25 pointau 0.98 0.19 0 nofluxcons npix 300'"
   ]
  },
  {
   "cell_type": "code",
   "execution_count": null,
   "metadata": {},
   "outputs": [],
   "source": [
    "im = ren.make_image(cmd)"
   ]
  },
  {
   "cell_type": "markdown",
   "metadata": {},
   "source": [
    "but `ren.callit` and `ren.plotit` should still work for calls to radmc3d without using the child-process method."
   ]
  },
  {
   "cell_type": "code",
   "execution_count": null,
   "metadata": {},
   "outputs": [],
   "source": [
    "vmax = im.im.max()\n",
    "\n",
    "f, ax = plt.subplots(dpi=150)\n",
    "ax.pcolormesh(im.xi, im.yi, im.im.T, norm=LogNorm(vmin=1e-4*vmax, vmax=0.5 * vmax, clip=True), cmap='afmhot')\n",
    "ax.set_aspect(1)"
   ]
  },
  {
   "cell_type": "markdown",
   "metadata": {},
   "source": [
    "Sanity check: vertical sum of density to see if the pattern matches"
   ]
  },
  {
   "cell_type": "code",
   "execution_count": null,
   "metadata": {},
   "outputs": [],
   "source": [
    "Ri, PHi = np.meshgrid(ren.r_i / c.au.cgs.value, ren.p_i, indexing='ij')\n",
    "_Xi = Ri * np.cos(PHi)\n",
    "_Yi = Ri * np.sin(PHi)\n",
    "\n",
    "f, ax = plt.subplots()\n",
    "ax.pcolormesh(_Xi, _Yi, (ren.rho * 0.5 * (ren.r_i[1:]+ ren.r_i[:-1])[:, None, None] * np.diff(ren.t_i)[None, :, None]).sum(1))\n",
    "ax.set_aspect('equal')"
   ]
  },
  {
   "cell_type": "markdown",
   "metadata": {},
   "source": [
    "We can also make RADMC-3D write the vtk_grid and data"
   ]
  },
  {
   "cell_type": "code",
   "execution_count": null,
   "metadata": {},
   "outputs": [],
   "source": [
    "ren.callit(command='vtk_grid')"
   ]
  },
  {
   "cell_type": "code",
   "execution_count": null,
   "metadata": {},
   "outputs": [],
   "source": [
    "ren.callit(command='vtk_gas_density')"
   ]
  }
 ],
 "metadata": {
  "kernelspec": {
   "display_name": "Python 3 (ipykernel)",
   "language": "python",
   "name": "python3"
  },
  "language_info": {
   "codemirror_mode": {
    "name": "ipython",
    "version": 3
   },
   "file_extension": ".py",
   "mimetype": "text/x-python",
   "name": "python",
   "nbconvert_exporter": "python",
   "pygments_lexer": "ipython3",
   "version": "3.10.5"
  }
 },
 "nbformat": 4,
 "nbformat_minor": 4
}
